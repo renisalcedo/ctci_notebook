{
 "cells": [
  {
   "cell_type": "code",
   "execution_count": 41,
   "metadata": {},
   "outputs": [],
   "source": [
    "def is_unique(s):\n",
    "    ln = len(s)\n",
    "    s = s.lower()\n",
    "    s = sorted(s)\n",
    "    \n",
    "    if ln == 0 or ln == 1:\n",
    "        return True\n",
    "    \n",
    "    for i in range(1, ln):\n",
    "        if s[i-1] == s[i]:\n",
    "            return False\n",
    "    \n",
    "    return len(s) == len(set(s))"
   ]
  },
  {
   "cell_type": "code",
   "execution_count": 42,
   "metadata": {},
   "outputs": [
    {
     "data": {
      "text/plain": [
       "True"
      ]
     },
     "execution_count": 42,
     "metadata": {},
     "output_type": "execute_result"
    }
   ],
   "source": [
    "s = 'abcdefg'\n",
    "is_unique(s)"
   ]
  },
  {
   "cell_type": "code",
   "execution_count": 53,
   "metadata": {},
   "outputs": [],
   "source": [
    "import unittest\n",
    "\n",
    "class TestUnique(unittest.TestCase):\n",
    "    data = [\n",
    "        ('abcdefg', True),\n",
    "        ('abncmkdir', True),\n",
    "        ('abncmkdia', False),\n",
    "        ('abncIkdi', False),\n",
    "        ('abncmdn', False),\n",
    "        ('abncmdpora', False)\n",
    "    ]\n",
    "    \n",
    "    def testUnique(self):\n",
    "        for data, expected in self.data:\n",
    "            actual = is_unique(data)\n",
    "\n",
    "            self.assertEqual(actual, expected)\n",
    "        \n",
    "t = TestUnique()\n",
    "t.testUnique()"
   ]
  }
 ],
 "metadata": {
  "kernelspec": {
   "display_name": "Python 3",
   "language": "python",
   "name": "python3"
  },
  "language_info": {
   "codemirror_mode": {
    "name": "ipython",
    "version": 3
   },
   "file_extension": ".py",
   "mimetype": "text/x-python",
   "name": "python",
   "nbconvert_exporter": "python",
   "pygments_lexer": "ipython3",
   "version": "3.5.2"
  }
 },
 "nbformat": 4,
 "nbformat_minor": 2
}
