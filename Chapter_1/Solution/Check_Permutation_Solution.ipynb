{
 "cells": [
  {
   "cell_type": "code",
   "execution_count": 34,
   "metadata": {},
   "outputs": [],
   "source": [
    "from collections import Counter\n",
    "\n",
    "def check_permu(s1, s2):\n",
    "    ln1 = len(s1)\n",
    "    ln2 = len(s2)\n",
    "    \n",
    "    if ln1 != ln2:\n",
    "        return False\n",
    "    \n",
    "    char_count = Counter()\n",
    "    for char in s1:\n",
    "        char_count[char] += 1\n",
    "    \n",
    "    for char in s2:\n",
    "        if char_count[char] == 0:\n",
    "            return False\n",
    "        char_count[char] -= 1\n",
    "    return True    "
   ]
  },
  {
   "cell_type": "code",
   "execution_count": 35,
   "metadata": {},
   "outputs": [],
   "source": [
    "def check_permus(s1,s2):\n",
    "    if len(s1) != len(s2):\n",
    "        return False\n",
    "    \n",
    "    return sorted(s1) == sorted(s2)"
   ]
  },
  {
   "cell_type": "code",
   "execution_count": 59,
   "metadata": {},
   "outputs": [],
   "source": [
    "import unittest\n",
    "\n",
    "class TestCheckPermu(unittest.TestCase):\n",
    "    dataf = [\n",
    "        (\"waterbottle\", \"waterwater\"),\n",
    "        (\"mathematics\", \"mathemtsijs\"),\n",
    "        (\"math\", \"matm\"),\n",
    "        (\"big house\", \"the big house\")\n",
    "    ]\n",
    "    \n",
    "    datat = [\n",
    "        (\"waterbottle\", \"lebottwarte\"),\n",
    "        (\"\", \"\"),\n",
    "        (\"mathemtics\", \"csmaitmeht\"),\n",
    "        (\"math\", \"tmah\"),\n",
    "        (\"big house\", \"big house\")\n",
    "    ]\n",
    "    \n",
    "    def permu_false(self):\n",
    "        for s1,s2 in self.dataf:\n",
    "            actual = check_permu(s1,s2) \n",
    "            \n",
    "            self.assertFalse(actual)\n",
    "            \n",
    "    def permu_true(self):\n",
    "        for s1,s2 in self.datat:\n",
    "            actual = check_permu(s1,s2)\n",
    "        \n",
    "            self.assertTrue(actual)"
   ]
  },
  {
   "cell_type": "code",
   "execution_count": 60,
   "metadata": {},
   "outputs": [],
   "source": [
    "t = TestCheckPermu()\n",
    "t.permu_false()\n",
    "t.permu_true()"
   ]
  }
 ],
 "metadata": {
  "kernelspec": {
   "display_name": "Python 3",
   "language": "python",
   "name": "python3"
  },
  "language_info": {
   "codemirror_mode": {
    "name": "ipython",
    "version": 3
   },
   "file_extension": ".py",
   "mimetype": "text/x-python",
   "name": "python",
   "nbconvert_exporter": "python",
   "pygments_lexer": "ipython3",
   "version": "3.5.2"
  }
 },
 "nbformat": 4,
 "nbformat_minor": 2
}
