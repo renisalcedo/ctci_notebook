{
 "cells": [
  {
   "cell_type": "code",
   "execution_count": 374,
   "metadata": {},
   "outputs": [],
   "source": [
    "class Node:\n",
    "    def __init__(self, value):\n",
    "        self.value = value\n",
    "        self.next = None\n",
    "        \n",
    "class LinkedList:        \n",
    "    def __init__(self, value=None):\n",
    "        self.head = Node(value)\n",
    "        \n",
    "    def insert(self, value):\n",
    "        new_node = Node(value)\n",
    "        \n",
    "        if not self.head:\n",
    "            self.head = new_node\n",
    "            \n",
    "        else:\n",
    "            new_node.next = self.head\n",
    "            self.head = new_node\n",
    "            \n",
    "    def insert_all(self, values):\n",
    "        for value in values:\n",
    "            self.insert(value)\n",
    "            \n",
    "    def print_nodes(self):\n",
    "        current = self.head\n",
    "        \n",
    "        while current:\n",
    "            print(current.value)\n",
    "            current = current.next\n"
   ]
  },
  {
   "cell_type": "code",
   "execution_count": 375,
   "metadata": {},
   "outputs": [],
   "source": [
    "# Your Solution Goes Here"
   ]
  },
  {
   "cell_type": "code",
   "execution_count": 376,
   "metadata": {},
   "outputs": [],
   "source": [
    "# Follow Solution Goes Here"
   ]
  },
  {
   "cell_type": "code",
   "execution_count": 377,
   "metadata": {},
   "outputs": [],
   "source": [
    "import unittest\n",
    "\n",
    "class RemoveDuplsTest(unittest.TestCase):\n",
    "   \n",
    "    def check_solution(self, solution):\n",
    "        values = [[2,3,4,2,1,5,6,2,3,2,2,2,1,5,4,3,6,7], [1, 2,2,2,3,3,3,3,4,4,4,4,4,5,5,5,5],\n",
    "                  [3,2,1,2,3,4,5,6,4,1], [1,2,3,4,5], [1,2,3], [1], [1,2], [1,1,3], [1,2,2,3]]\n",
    "        \n",
    "        for test_values in values:\n",
    "            lk = LinkedList(1)\n",
    "            lk.insert_all(test_values)\n",
    "            \n",
    "            self.check_helper(lk, test_values, solution)\n",
    "            \n",
    "        print(\"ALL TEST CASES PASSED!\")         \n",
    "            \n",
    "    def check_helper(self, lk, test_values, solution):\n",
    "        expected = self.remove_dups_l(test_values)\n",
    "        actual = sorted(self.to_array(solution(lk.head)))\n",
    "        \n",
    "        self.assertEqual(actual, expected)\n",
    "                    \n",
    "    def to_array(self, head):\n",
    "        if type(head) is list:\n",
    "            return head\n",
    "        \n",
    "        arr = []\n",
    "        current = head\n",
    "        \n",
    "        while current:\n",
    "            arr.append(current.value)\n",
    "            current = current.next\n",
    "            \n",
    "        return arr    \n",
    "    \n",
    "    def remove_dups_l(self, arr):\n",
    "        if len(arr) == 0 or len(arr) == 1:\n",
    "            return arr\n",
    "        \n",
    "        i = 0\n",
    "        arr = sorted(arr)\n",
    "        for j in range(1, len(arr)):\n",
    "            if arr[i] != arr[j]:\n",
    "                i += 1\n",
    "                arr[i] = arr[j]\n",
    "        return arr[:i+1]        "
   ]
  },
  {
   "cell_type": "code",
   "execution_count": 379,
   "metadata": {},
   "outputs": [
    {
     "name": "stdout",
     "output_type": "stream",
     "text": [
      "ALL TEST CASES PASSED!\n",
      "ALL TEST CASES PASSED!\n"
     ]
    }
   ],
   "source": [
    "test = RemoveDuplsTest()\n",
    "test.check_solution(remove_dups)\n",
    "test.check_solution(remove_dups_follow)"
   ]
  }
 ],
 "metadata": {
  "kernelspec": {
   "display_name": "Python 3",
   "language": "python",
   "name": "python3"
  },
  "language_info": {
   "codemirror_mode": {
    "name": "ipython",
    "version": 3
   },
   "file_extension": ".py",
   "mimetype": "text/x-python",
   "name": "python",
   "nbconvert_exporter": "python",
   "pygments_lexer": "ipython3",
   "version": "3.5.2"
  }
 },
 "nbformat": 4,
 "nbformat_minor": 2
}
